{
  "nbformat": 4,
  "nbformat_minor": 0,
  "metadata": {
    "colab": {
      "name": "Using ResNet to Improve Image Classification.ipynb",
      "provenance": [],
      "collapsed_sections": [],
      "machine_shape": "hm",
      "authorship_tag": "ABX9TyM44DB2yKfSJ9is/z8kIUW3",
      "include_colab_link": true
    },
    "kernelspec": {
      "name": "python3",
      "display_name": "Python 3"
    },
    "accelerator": "GPU"
  },
  "cells": [
    {
      "cell_type": "markdown",
      "metadata": {
        "id": "view-in-github",
        "colab_type": "text"
      },
      "source": [
        "<a href=\"https://colab.research.google.com/github/AlexNedyalkov/DeepLearning-SoftUni/blob/master/Using_ResNet_to_Improve_Image_Classification.ipynb\" target=\"_parent\"><img src=\"https://colab.research.google.com/assets/colab-badge.svg\" alt=\"Open In Colab\"/></a>"
      ]
    },
    {
      "cell_type": "markdown",
      "metadata": {
        "id": "VLo-jXQPTVu9",
        "colab_type": "text"
      },
      "source": [
        "# Google CoLab Instructions\n",
        "\n",
        "The following code ensures that Google CoLab is running the correct version of TensorFlow."
      ]
    },
    {
      "cell_type": "code",
      "metadata": {
        "id": "LLVaI7wXTZDM",
        "colab_type": "code",
        "outputId": "97e2978f-bf4a-4128-ed29-1373fad100e9",
        "colab": {
          "base_uri": "https://localhost:8080/",
          "height": 54
        }
      },
      "source": [
        "# Detect Colab if present\n",
        "try:\n",
        "    from google.colab import drive\n",
        "    COLAB = True\n",
        "    print(\"Note: using Google CoLab\")\n",
        "    %tensorflow_version 2.x\n",
        "except:\n",
        "    print(\"Note: not using Google CoLab\")\n",
        "    COLAB = False"
      ],
      "execution_count": 1,
      "outputs": [
        {
          "output_type": "stream",
          "text": [
            "Note: using Google CoLab\n",
            "TensorFlow 2.x selected.\n"
          ],
          "name": "stdout"
        }
      ]
    },
    {
      "cell_type": "code",
      "metadata": {
        "id": "clT6I5WkdYES",
        "colab_type": "code",
        "colab": {}
      },
      "source": [
        "import numpy as np\n",
        "import os\n",
        "import matplotlib.pyplot as plt\n",
        "\n",
        "import tensorflow as tf\n",
        "import tensorflow.keras\n",
        "from tensorflow.keras import datasets, layers, models\n",
        "from tensorflow.keras.layers import Dense, Conv2D, BatchNormalization, Activation\n",
        "from tensorflow.keras.layers import Input, Flatten, MaxPooling2D\n",
        "from tensorflow.keras.models import Sequential\n",
        "from tensorflow.keras.optimizers import Adam\n",
        "from tensorflow.keras.callbacks import ModelCheckpoint, LearningRateScheduler\n",
        "from tensorflow.keras.callbacks import ReduceLROnPlateau\n",
        "from tensorflow.keras.preprocessing.image import ImageDataGenerator\n",
        "from tensorflow.keras.regularizers import l2\n",
        "from tensorflow.keras import backend as K\n",
        "from tensorflow.keras.models import Model\n",
        "from tensorflow.keras.datasets import cifar10\n",
        "\n"
      ],
      "execution_count": 0,
      "outputs": []
    },
    {
      "cell_type": "markdown",
      "metadata": {
        "id": "l_P4hsGHTj4P",
        "colab_type": "text"
      },
      "source": [
        "# Brief overview of \"plain\" neural networks for image recognition and how our intuition can lead us astray\n",
        "\n",
        "\n",
        "Deep learning can be thought as learning an hierarchical sets of representations such that it can learn low, mid, and high level features. For example, when the data consist of images the low features mean learning edges, mid features mean learning to recognize different shapes, and high features mean  learning to recognize objects. Based on this, our intuition tells us that when designing a neural network we can improve its performance simply by stacking many of the typical building blocks such as convolutional or fully-connected layers one on top of the other. This works to a point, but performance quickly diminishes the deeper the traditional network becomes. \n",
        "\n",
        "![PlainNetworkPerformance](https://drive.google.com/uc?id=1lAry4bN_DEnSlZXTVndnbx0vCuYW9rX-)\n",
        "\n",
        "source: Ander Ng Lectures on Convolutional Neural Networks\n",
        "\n",
        "![ResNetVSCNN](https://drive.google.com/uc?id=1ur9Dt3MH8f4WlYVGnysrJ4uZvlBpQBy4)\n",
        "\n",
        "source: He, et. al, 2015, Deep Residual Networks For Image Recognition\n",
        "\n"
      ]
    },
    {
      "cell_type": "markdown",
      "metadata": {
        "id": "lRFp2JbeoKIP",
        "colab_type": "text"
      },
      "source": [
        "While intuitive the above logic does not work for the simple reason that adding more layers does not only make our network more expressive, but __it also makes it different__. What this means is that the set of functions that describe the data that are possible with this particular architecture changes from the set of functions that were possible before adding the extra layers and __there is no guarantee that the function that best describes the data would be in the new set of functions__. "
      ]
    },
    {
      "cell_type": "markdown",
      "metadata": {
        "id": "6LLJwVNXcWr5",
        "colab_type": "text"
      },
      "source": [
        "# An example of traditional CNN using the standard CIFAR-10 Library\n",
        "\n",
        "## Brief description of the data\n",
        "\n",
        "In this project I use the CIFAR-10 dataset, which is widely used for research purposes. The CIFAR-10 dataset consists of 60000 32x32 colour images in 10 classes, with 6000 images per class. There are 50000 training images and 10000 test images.\n",
        "\n",
        "\n",
        "## Loading and exploring the data\n"
      ]
    },
    {
      "cell_type": "code",
      "metadata": {
        "id": "mgE-mFt-dB-l",
        "colab_type": "code",
        "outputId": "2211ab1d-7f77-4cbb-aff6-c65e4b92b4b7",
        "colab": {
          "base_uri": "https://localhost:8080/",
          "height": 129
        }
      },
      "source": [
        "cifar = datasets.cifar10\n",
        "\n",
        "(train_images, train_labels), (test_images, test_labels) = datasets.cifar10.load_data()\n",
        "\n",
        "#Checking the shapes to make sure I have the right data\n",
        "print(\"Train images shape:\", train_images.shape)\n",
        "print(\"Train labels shape:\", train_labels.shape)\n",
        "\n",
        "print(\"Test images shape:\", test_images.shape)\n",
        "print(\"Test labels shape:\", test_labels.shape)\n",
        "\n",
        "\n",
        "# Normalize pixel values to be between 0 and 1\n",
        "train_images, test_images = train_images / 255.0, test_images / 255.0\n",
        "\n",
        "\n",
        "#Would be need later for the CNN\n",
        "input_shape = train_images.shape[1:]\n",
        "\n",
        "class_names = ['airplane', 'automobile', 'bird', 'cat', 'deer',\n",
        "               'dog', 'frog', 'horse', 'ship', 'truck']"
      ],
      "execution_count": 0,
      "outputs": [
        {
          "output_type": "stream",
          "text": [
            "Downloading data from https://www.cs.toronto.edu/~kriz/cifar-10-python.tar.gz\n",
            "170500096/170498071 [==============================] - 2s 0us/step\n",
            "Train images shape: (50000, 32, 32, 3)\n",
            "Train labels shape: (50000, 1)\n",
            "Test images shape: (10000, 32, 32, 3)\n",
            "Test labels shape: (10000, 1)\n"
          ],
          "name": "stdout"
        }
      ]
    },
    {
      "cell_type": "markdown",
      "metadata": {
        "id": "gumROVxrQ45X",
        "colab_type": "text"
      },
      "source": [
        "Next to make sure that I got the right data and to better acquaint myself with the data I show sixteen of the images with their corresponding labels."
      ]
    },
    {
      "cell_type": "code",
      "metadata": {
        "id": "iJ43haBtQ3i_",
        "colab_type": "code",
        "outputId": "401a86ae-ae2a-46ee-8d96-2cd5e2e2865b",
        "colab": {
          "base_uri": "https://localhost:8080/",
          "height": 860
        }
      },
      "source": [
        "plt.figure(figsize=(15,15))\n",
        "for i in range(16):\n",
        "    plt.subplot(4,4,i+1)\n",
        "    plt.xticks([])\n",
        "    plt.yticks([])\n",
        "    #plt.grid(False)\n",
        "    plt.imshow(train_images[i], cmap=plt.cm.binary)\n",
        "    plt.xlabel(class_names[train_labels[i][0]])\n",
        "plt.show()"
      ],
      "execution_count": 0,
      "outputs": [
        {
          "output_type": "display_data",
          "data": {
            "image/png": "[encoded data removed]",
            "text/plain": [
              "<Figure size 1080x1080 with 16 Axes>"
            ]
          },
          "metadata": {
            "tags": []
          }
        }
      ]
    },
    {
      "cell_type": "markdown",
      "metadata": {
        "id": "TDEueujPb5Ht",
        "colab_type": "text"
      },
      "source": [
        "## Model a \"plain\" CNN\n",
        "\n",
        "### Create the convolutional base\n",
        "\n",
        "I am going to start building my \"plain\" CNN by first constructing its convolutional base. I am using a basic CNN architecture: a stack of Conv2D and MaxPooling2D layers. As input, a CNN takes tensors of shape (image_height, image_width, color_channels), ignoring the batch size. \n"
      ]
    },
    {
      "cell_type": "code",
      "metadata": {
        "id": "TEfM0eLNdxlM",
        "colab_type": "code",
        "colab": {}
      },
      "source": [
        "model = Sequential()\n",
        "model.add(Conv2D(filters = 32, kernel_size = (3,3), activation = \"relu\", input_shape = input_shape))\n",
        "model.add(MaxPooling2D(pool_size = (2,2)))\n",
        "model.add(Conv2D(filters = 64, kernel_size = (3,3), activation = \"relu\"))\n",
        "model.add(MaxPooling2D((2, 2))),\n",
        "model.add(Ba)\n",
        "model.add(Conv2D(filters = 64, kernel_size = (3,3), activation = \"relu\"))\n",
        "model.add(Conv2D(64, (3, 3), activation='relu'))"
      ],
      "execution_count": 0,
      "outputs": []
    },
    {
      "cell_type": "code",
      "metadata": {
        "id": "T0JZcUZrd9k-",
        "colab_type": "code",
        "outputId": "6b3a70db-bd09-475c-abee-b5ce7acf8326",
        "colab": {
          "base_uri": "https://localhost:8080/",
          "height": 391
        }
      },
      "source": [
        "# Checking the model after the first few layers\n",
        "model.summary()"
      ],
      "execution_count": 0,
      "outputs": [
        {
          "output_type": "stream",
          "text": [
            "Model: \"sequential\"\n",
            "_________________________________________________________________\n",
            "Layer (type)                 Output Shape              Param #   \n",
            "=================================================================\n",
            "conv2d (Conv2D)              (None, 30, 30, 32)        896       \n",
            "_________________________________________________________________\n",
            "max_pooling2d (MaxPooling2D) (None, 15, 15, 32)        0         \n",
            "_________________________________________________________________\n",
            "conv2d_1 (Conv2D)            (None, 13, 13, 64)        18496     \n",
            "_________________________________________________________________\n",
            "max_pooling2d_1 (MaxPooling2 (None, 6, 6, 64)          0         \n",
            "_________________________________________________________________\n",
            "conv2d_2 (Conv2D)            (None, 4, 4, 64)          36928     \n",
            "_________________________________________________________________\n",
            "conv2d_3 (Conv2D)            (None, 2, 2, 64)          36928     \n",
            "=================================================================\n",
            "Total params: 93,248\n",
            "Trainable params: 93,248\n",
            "Non-trainable params: 0\n",
            "_________________________________________________________________\n"
          ],
          "name": "stdout"
        }
      ]
    },
    {
      "cell_type": "markdown",
      "metadata": {
        "id": "6Ye68ZrUeFwd",
        "colab_type": "text"
      },
      "source": [
        "Above, you can see that the output of every Conv2D and MaxPooling2D layer is a 3D tensor of shape (height, width, channels). The width and height dimensions tend to shrink as you go deeper in the network, while the third dimension defined by the number of filters increases.\n",
        "\n"
      ]
    },
    {
      "cell_type": "markdown",
      "metadata": {
        "id": "-39wTM5leNh_",
        "colab_type": "text"
      },
      "source": [
        "### Adding dense layers\n",
        "\n",
        "To complete my model, I added several fully-connected layers. Since the dense layers take vectors as input and my the current output is a 3D tensor, first I  flatten the input to the first dense layer. My final Dense layer consists of 10 outputs since the dataset has 10 different categories and a softmax activation function.\n"
      ]
    },
    {
      "cell_type": "code",
      "metadata": {
        "id": "RqeqCR83eDJW",
        "colab_type": "code",
        "outputId": "1524d6d6-f493-49a0-b2da-cfe1f05f038c",
        "colab": {
          "base_uri": "https://localhost:8080/",
          "height": 578
        }
      },
      "source": [
        "model.add(Flatten())\n",
        "model.add(layers.Dense(64, activation='relu'))\n",
        "model.add(layers.Dense(128, activation='relu'))\n",
        "model.add(layers.Dense(128, activation='relu'))\n",
        "model.add(layers.Dense(10, activation='softmax'))\n",
        "\n",
        "model.summary()"
      ],
      "execution_count": 0,
      "outputs": [
        {
          "output_type": "stream",
          "text": [
            "Model: \"sequential\"\n",
            "_________________________________________________________________\n",
            "Layer (type)                 Output Shape              Param #   \n",
            "=================================================================\n",
            "conv2d (Conv2D)              (None, 30, 30, 32)        896       \n",
            "_________________________________________________________________\n",
            "max_pooling2d (MaxPooling2D) (None, 15, 15, 32)        0         \n",
            "_________________________________________________________________\n",
            "conv2d_1 (Conv2D)            (None, 13, 13, 64)        18496     \n",
            "_________________________________________________________________\n",
            "max_pooling2d_1 (MaxPooling2 (None, 6, 6, 64)          0         \n",
            "_________________________________________________________________\n",
            "conv2d_2 (Conv2D)            (None, 4, 4, 64)          36928     \n",
            "_________________________________________________________________\n",
            "conv2d_3 (Conv2D)            (None, 2, 2, 64)          36928     \n",
            "_________________________________________________________________\n",
            "flatten (Flatten)            (None, 256)               0         \n",
            "_________________________________________________________________\n",
            "dense (Dense)                (None, 64)                16448     \n",
            "_________________________________________________________________\n",
            "dense_1 (Dense)              (None, 128)               8320      \n",
            "_________________________________________________________________\n",
            "dense_2 (Dense)              (None, 128)               16512     \n",
            "_________________________________________________________________\n",
            "dense_3 (Dense)              (None, 10)                1290      \n",
            "=================================================================\n",
            "Total params: 135,818\n",
            "Trainable params: 135,818\n",
            "Non-trainable params: 0\n",
            "_________________________________________________________________\n"
          ],
          "name": "stdout"
        }
      ]
    },
    {
      "cell_type": "code",
      "metadata": {
        "id": "GN-qefYZbxbl",
        "colab_type": "code",
        "outputId": "090bdbf4-ed83-4efd-ba5d-d38ab8207318",
        "colab": {
          "base_uri": "https://localhost:8080/",
          "height": 596
        }
      },
      "source": [
        "## Both, categorical cross entropy and sparse categorical cross entropy have the same loss function\n",
        "## The only difference is the format in which you mention Yi (i,e true labels).\n",
        "\n",
        "## If your Yi's are one-hot encoded, use categorical_crossentropy. \n",
        "## Examples (for a 3-class classification): [1,0,0] , [0,1,0], [0,0,1]\n",
        "\n",
        "## But if your Yi's are integers, use sparse_categorical_crossentropy. \n",
        "## Examples for above 3-class classification problem: [1] , [2], [3]\n",
        "\n",
        "model.compile(optimizer = \"adam\", loss = tf.keras.losses.sparse_categorical_crossentropy, metrics = [\"accuracy\"])\n",
        "\n",
        "history = model.fit(train_images, train_labels, epochs=15, \n",
        "                    validation_data=(test_images, test_labels))\n"
      ],
      "execution_count": 0,
      "outputs": [
        {
          "output_type": "stream",
          "text": [
            "Train on 50000 samples, validate on 10000 samples\n",
            "Epoch 1/15\n",
            "50000/50000 [==============================] - 13s 264us/sample - loss: 1.5865 - accuracy: 0.4090 - val_loss: 1.3845 - val_accuracy: 0.4944\n",
            "Epoch 2/15\n",
            "50000/50000 [==============================] - 6s 126us/sample - loss: 1.2090 - accuracy: 0.5659 - val_loss: 1.1018 - val_accuracy: 0.6097\n",
            "Epoch 3/15\n",
            "50000/50000 [==============================] - 6s 124us/sample - loss: 1.0411 - accuracy: 0.6302 - val_loss: 1.0437 - val_accuracy: 0.6323\n",
            "Epoch 4/15\n",
            "50000/50000 [==============================] - 6s 120us/sample - loss: 0.9347 - accuracy: 0.6685 - val_loss: 1.0357 - val_accuracy: 0.6422\n",
            "Epoch 5/15\n",
            "50000/50000 [==============================] - 6s 122us/sample - loss: 0.8499 - accuracy: 0.7014 - val_loss: 0.8779 - val_accuracy: 0.6958\n",
            "Epoch 6/15\n",
            "50000/50000 [==============================] - 6s 122us/sample - loss: 0.7886 - accuracy: 0.7241 - val_loss: 0.9119 - val_accuracy: 0.6880\n",
            "Epoch 7/15\n",
            "50000/50000 [==============================] - 6s 120us/sample - loss: 0.7363 - accuracy: 0.7422 - val_loss: 0.9363 - val_accuracy: 0.6892\n",
            "Epoch 8/15\n",
            "50000/50000 [==============================] - 6s 123us/sample - loss: 0.6882 - accuracy: 0.7576 - val_loss: 0.8741 - val_accuracy: 0.7100\n",
            "Epoch 9/15\n",
            "50000/50000 [==============================] - 6s 121us/sample - loss: 0.6496 - accuracy: 0.7723 - val_loss: 0.8837 - val_accuracy: 0.7001\n",
            "Epoch 10/15\n",
            "50000/50000 [==============================] - 6s 124us/sample - loss: 0.6140 - accuracy: 0.7829 - val_loss: 0.8692 - val_accuracy: 0.7160\n",
            "Epoch 11/15\n",
            "50000/50000 [==============================] - 6s 125us/sample - loss: 0.5810 - accuracy: 0.7955 - val_loss: 0.8803 - val_accuracy: 0.7137\n",
            "Epoch 12/15\n",
            "50000/50000 [==============================] - 6s 124us/sample - loss: 0.5479 - accuracy: 0.8071 - val_loss: 0.9101 - val_accuracy: 0.7113\n",
            "Epoch 13/15\n",
            "50000/50000 [==============================] - 6s 122us/sample - loss: 0.5191 - accuracy: 0.8168 - val_loss: 0.9775 - val_accuracy: 0.7037\n",
            "Epoch 14/15\n",
            "50000/50000 [==============================] - 6s 120us/sample - loss: 0.4919 - accuracy: 0.8263 - val_loss: 0.9287 - val_accuracy: 0.7125\n",
            "Epoch 15/15\n",
            "50000/50000 [==============================] - 6s 119us/sample - loss: 0.4689 - accuracy: 0.8328 - val_loss: 0.9544 - val_accuracy: 0.7074\n"
          ],
          "name": "stdout"
        }
      ]
    },
    {
      "cell_type": "markdown",
      "metadata": {
        "id": "r2pZiRNpe9It",
        "colab_type": "text"
      },
      "source": [
        "From the above it is evident that the test accuracy of the \"plain\" CNN that we have created after being trained for 15 epochs cannot exceed 0.70. Furthermore on the  Tensorflow Tutorial page a similar network is build, which has a lot less layers and its test accuracy of 0.6954 is very similar to the performace of our CNN. Finally, on the Keras tutorial webpage there is another example of a 'plain\" CNN, which is deeper than ours. After being trained for 50 epochs, this CNN manages to get its accuracy to 79%. Based on all these and looking at the data itself and the fact that a human can recognize the different images in this dataset with much higher accuracy and therefore the Bayes optimal error, or the \"real\" error in the dataset, is considerably smaller than the one that we have achived with the \"plain\" CNN we can conclude that the \"plain\" CNNs even with deeper layers are underfitting the data. "
      ]
    },
    {
      "cell_type": "markdown",
      "metadata": {
        "id": "WrS6LOZJmbLu",
        "colab_type": "text"
      },
      "source": [
        "## USEFUL EXPLANATIONS\n",
        "\n",
        "The degradation problem mentioned in the original paper is the authors’ observation that despite adding more layers to their net, they were obtaining lower training accuracy. This is super counterintuitive, since we would assume that by giving our model more parameters, we should be able to fit the train data at least as well as before. The authors of the original paper state that they trained their net with batch normalization and examined the gradients of the net, and the problem does not appear to be a case of vanishing gradients. I’ll be simplifying some of the complexity here, but basically they guess that potentially their solvers and architecture have a hard time learning the identity function for certain layers of the net, and may have an easier time learning zero mappings for those same layers: it is harder to learn f(x) = x, than f(x) = 0. Ultimately, this motivates their setup for learning small residuals and adding them to the input, rather than just transforming the whole input directly.\n",
        "\n",
        "If I had to briefly summarize it, the degradation problem is the observation that adding more layers to the net can lead to optimization problems, which do not allow the net to learn as well as a smaller net might. Particularly, these problems may stem from the fact that the normal NN layers have a harder time learning an identity mapping function, than learning a mapping to 0."
      ]
    },
    {
      "cell_type": "markdown",
      "metadata": {
        "id": "6vQFqLygiLdf",
        "colab_type": "text"
      },
      "source": [
        "# Step Forward Residual neural networks?\n",
        "\n",
        "## Overview and basic intuitions\n",
        "ResNet are based on the idea that every additional layer in the network should contain the identity function as one of its elements and thus guarantee that the set of possible functions describing the data in the deeper layers would include the set of possible functions describing the data in a shallower network. This logic was first implemented by adding residual blocks to a \"plain\" neural network and was illustrated in the following paper:\n",
        "\n",
        "* K. He, X. Zhang, S. Ren, and J. Sun. [Deep residual learning for image recognition](https://arxiv.org/abs/1512.03385). arXiv preprint arXiv:1512.03385,2015.\n",
        "\n",
        "## Residual block\n",
        "\n",
        "The structure of the residual block is presented below:\n",
        "\n",
        "![SkipLayer](https://drive.google.com/uc?id=1iPDtyzwHQEeMqAsrS9pqliyNfRu_r9bn)\n",
        "\n",
        "In a \"plain\" NN the input of the last relu activation function would be F(x). However, this becomes a problem if this particular layer does not \"learn\" anything useful and therefore we would much rather retain the input from the previous layer. The residual block on the other hand gives us the opportunity to return to retain the value of the previous layer if no new information is learned in the residual block by setting F(x) = 0.\n",
        "\n",
        "This means that if we can train the newly-added layer into an identity mapping 𝑓(𝐱)=𝐱, the new model will be as effective as the original model. As the new model may get a better solution to fit the training dataset, which means that the residual block learns something, the added layer might make it easier to reduce training errors. \n",
        "\n",
        "Residual blocks are typically used with convolutional neural networks (CNNs).  This allows very deep neural networks of CNNs to be created.  The following diagram shows several different ResNets as given by the abovementioned paper.\n",
        "\n",
        "![ResNet](https://drive.google.com/uc?id=19m4LiVzaYzUKvRFoveXIE3isM9KGQI2H)\n",
        "\n",
        "## Intuition How ResNet Work\n",
        "\n",
        "The basic intuition of the ResNets is that in the worst case scenario deeper model’s early layers can be replaced with the shallow network's layers and the remaining layers can just act as an identity function (Input equal to output). This why adding the residual block does not hurt the model. __However, if the residual units learn something useful then you can do even better than learning the activation function__. \n",
        "\n"
      ]
    },
    {
      "cell_type": "markdown",
      "metadata": {
        "id": "LZ3frdCMzAK2",
        "colab_type": "text"
      },
      "source": [
        "# Implementing ResNet in Keras\n",
        "\n",
        "We start first by setting some hyperparameters that we would need later on.\n"
      ]
    },
    {
      "cell_type": "code",
      "metadata": {
        "id": "-RoVTl6xzh0p",
        "colab_type": "code",
        "colab": {}
      },
      "source": [
        "# Training parameters\n",
        "BATCH_SIZE = 32  # orig paper trained all networks with batch_size=128\n",
        "EPOCHS = 200 # 200\n",
        "USE_AUGMENTATION = True\n",
        "NUM_CLASSES = np.unique(train_images).shape[0] # 10\n",
        "COLORS = train_images.shape[3]\n",
        "\n",
        "# Subtracting pixel mean improves accuracy\n",
        "SUBTRACT_PIXEL_MEAN = True\n",
        "\n",
        "# Model version\n",
        "# Orig paper: version = 1 (ResNet v1), Improved ResNet: version = 2 (ResNet v2)\n",
        "VERSION = 1\n",
        "\n",
        "# Computed depth from supplied model parameter n\n",
        "if VERSION == 1:\n",
        "    DEPTH = COLORS * 6 + 2\n",
        "elif version == 2:\n",
        "    DEPTH = COLORS * 9 + 2\n",
        "    "
      ],
      "execution_count": 0,
      "outputs": []
    },
    {
      "cell_type": "markdown",
      "metadata": {
        "id": "4UAQkI2fpnBy",
        "colab_type": "text"
      },
      "source": [
        "The following function implements a learning rate decay schedule as suggested in the paper."
      ]
    },
    {
      "cell_type": "code",
      "metadata": {
        "colab_type": "code",
        "id": "pHUm2jSUmp9T",
        "colab": {}
      },
      "source": [
        "def lr_schedule(epoch):\n",
        "    lr = 1e-3\n",
        "    if epoch > 180:\n",
        "        lr *= 0.5e-3\n",
        "    elif epoch > 160:\n",
        "        lr *= 1e-3\n",
        "    elif epoch > 120:\n",
        "        lr *= 1e-2\n",
        "    elif epoch > 80:\n",
        "        lr *= 1e-1\n",
        "    print('Learning rate: ', lr)\n",
        "    return lr"
      ],
      "execution_count": 0,
      "outputs": []
    },
    {
      "cell_type": "markdown",
      "metadata": {
        "id": "sfi57Bvw22_e",
        "colab_type": "text"
      },
      "source": [
        "The following code implements a ResNet block.  This includes two convolutional layers with a skip connection.  Both V1 and V2 of ResNet make use of this type of layer."
      ]
    },
    {
      "cell_type": "code",
      "metadata": {
        "id": "w5p7p-8Y24V2",
        "colab_type": "code",
        "colab": {}
      },
      "source": [
        "def resnet_layer(inputs,\n",
        "                 num_filters = 16, \n",
        "                 kernel_size = 3, \n",
        "                 strides = 1, \n",
        "                 activation = \"relu\", \n",
        "                 batch_normalization = True, \n",
        "                 conv_first = True):\n",
        "  \n",
        "  #Create a standard convolution layer\n",
        "  conv = Conv2D(num_filters,\n",
        "                kernel_size,\n",
        "                strides,\n",
        "                #Very important to have padding SAME because we need to have\n",
        "                #the same dimensions between the layers due to the \"skip\" step\n",
        "                padding = \"same\",\n",
        "                activation = activation,\n",
        "                kernel_initializer='he_normal',\n",
        "                kernel_regularizer=l2(1e-4))\n",
        "  \n",
        "  #Two types of architecture possible depending on the version\n",
        "  #1) conv_first (bool): conv-bn-activation (True) or\n",
        "  #2) bn-activation-conv (False)\n",
        "\n",
        "  #Assign the input data\n",
        "  res_net_layer = input_data\n",
        "\n",
        "  #Check the architecture\n",
        "  if conv_first:\n",
        "    res_net_layer = conv(res_net_layer)\n",
        "    res_net_layer = BatchNormalization()(res_net_layer)\n",
        "    if activation is not None:\n",
        "      res_net_layer = Activation(activation)(res_net_layer)\n",
        "  else:\n",
        "    res_net_layer = BatchNormalization()(res_net_layer)\n",
        "    if activation is not None:\n",
        "      res_net_layer = Activation(activation)(res_net_layer)\n",
        "    res_net_layer = conv(res_net_layer)\n",
        "\n",
        "  return res_net_layer\n",
        "                "
      ],
      "execution_count": 0,
      "outputs": []
    },
    {
      "cell_type": "markdown",
      "metadata": {
        "id": "BrSQ5a2tqn1c",
        "colab_type": "text"
      },
      "source": [
        "The following code implements ResNet V1 based on the abovementioned paper:\n",
        "\n",
        "    K. He, X. Zhang, S. Ren, and J. Sun. Deep residual learning for image recognition. arXiv preprint arXiv:1512.03385,2015.\n"
      ]
    },
    {
      "cell_type": "code",
      "metadata": {
        "id": "r_-Zw34Mqvso",
        "colab_type": "code",
        "colab": {}
      },
      "source": [
        "def resnet_v1(input_shape, depth, num_classes=10):\n",
        "  \"\"\"\n",
        "  Stacks of two ResNet Layer Conv2D-BN-Relu\n",
        "  Last ReLu is after the shortcut connection.\n",
        "\n",
        "  At the beginning of each stage, the feature map size is halved (downsampled)\n",
        "  by a convolutional layer with strides=2, while the number of filters is\n",
        "  doubled. Within each stage, the layers have the same number filters and the\n",
        "  same number of filters.\n",
        "  \"\"\"\n",
        "  if (depth - 2) % 6 != 0:\n",
        "    raise ValueError(\"Depth should be 6n + 2\")\n",
        "  \n",
        "  #Model Building\n",
        "  num_filters = 16\n",
        "  num_res_blocks = int((depth - 2) / 6) \n",
        "\n",
        "  #Instantiate the input tensor\n",
        "  inputs = Input(shape = input_shape)\n",
        "  x = resnet_layer(inputs = inputs)\n",
        "\n",
        "  #Instantiate the stack of residual units\n",
        "  for stack in range(3):\n",
        "    for res_block in range(num_res_blocks):\n",
        "      strides = 1\n",
        "      if stack > 0 and res_block == 0:\n",
        "        strides = 2 #downsample\n",
        "      y = resnet_layer(inputs=x,\n",
        "                       num_filets = num_filters,\n",
        "                       strides = strides)\n",
        "      y = resnet_layer(inputs = y,\n",
        "                       num_filters = num_filters,\n",
        "                       activation = None)\n",
        "      if stack > 0 and res_block == 0:\n",
        "        x = resnet_layer(input = x, \n",
        "                         num_filters = num_filters,\n",
        "                         kernel_size = 1,\n",
        "                         strides = strides,\n",
        "                         activation = None,\n",
        "                         batch_normalization = False)\n",
        "        x = tf.keras.layers.add(x, y)\n",
        "        x = Activation(\"relu\")(x)\n",
        "        num_filter *= 2\n",
        "      \n",
        "    # Add classifier on top.\n",
        "    # v1 does not use BN after last shortcut connection-ReLU\n",
        "    x = AveragePooling2D(pool_size=8)(x)\n",
        "    y = Flatten()(x)\n",
        "    outputs = Dense(num_classes,\n",
        "                    activation='softmax',\n",
        "                    kernel_initializer='he_normal')(y)\n",
        "\n",
        "    # Instantiate model.\n",
        "    model = Model(input = inputs, outputs = outputs)\n",
        "    return model\n"
      ],
      "execution_count": 0,
      "outputs": []
    },
    {
      "cell_type": "markdown",
      "metadata": {
        "id": "g71j2lCR1J4j",
        "colab_type": "text"
      },
      "source": [
        "With all of this defined, we can run the ResNet."
      ]
    },
    {
      "cell_type": "code",
      "metadata": {
        "id": "QxhJqOtd1I7t",
        "colab_type": "code",
        "outputId": "32336768-bf65-454c-aac5-bbdf9abe04f6",
        "colab": {
          "base_uri": "https://localhost:8080/",
          "height": 479
        }
      },
      "source": [
        "# Input image dimensions.\n",
        "input_shape = train_images.shape[1:]\n",
        "\n",
        "# Normalize data.\n",
        "train_images = train_images.astype('float32') / 255\n",
        "test_images = test_images.astype('float32') / 255\n",
        "\n",
        "# If subtract pixel mean is enabled\n",
        "if SUBTRACT_PIXEL_MEAN:\n",
        "    train_images_mean = np.mean(train_images, axis=0)\n",
        "    train_images -= train_images_mean\n",
        "    test_images -= train_images_mean\n",
        "\n",
        "print('train images shape:', train_images_mean.shape)\n",
        "print(train_images.shape[0], 'train samples')\n",
        "print(test_images.shape[0], 'test samples')\n",
        "print('train_labels shape:', train_labels.shape)\n",
        "\n",
        "# Convert class vectors to binary class matrices.\n",
        "train_labels = tensorflow.keras.utils.to_categorical(train_labels, NUM_CLASSES)\n",
        "test_labels = tensorflow.keras.utils.to_categorical(test_labels, NUM_CLASSES)\n",
        "\n",
        "model = resnet_v1(input_shape=input_shape, depth=DEPTH)\n",
        "\n",
        "model.compile(loss='categorical_crossentropy',\n",
        "              optimizer=Adam(lr=lr_schedule(0)),\n",
        "              metrics=['accuracy'])\n",
        "model.summary()\n"
      ],
      "execution_count": 0,
      "outputs": [
        {
          "output_type": "stream",
          "text": [
            "train images shape: (32, 32, 3)\n",
            "50000 train samples\n",
            "10000 test samples\n",
            "train_labels shape: (50000, 256)\n"
          ],
          "name": "stdout"
        },
        {
          "output_type": "error",
          "ename": "NameError",
          "evalue": "ignored",
          "traceback": [
            "\u001b[0;31m---------------------------------------------------------------------------\u001b[0m",
            "\u001b[0;31mNameError\u001b[0m                                 Traceback (most recent call last)",
            "\u001b[0;32m<ipython-input-16-5522e8732808>\u001b[0m in \u001b[0;36m<module>\u001b[0;34m()\u001b[0m\n\u001b[1;32m     20\u001b[0m \u001b[0mtest_labels\u001b[0m \u001b[0;34m=\u001b[0m \u001b[0mtensorflow\u001b[0m\u001b[0;34m.\u001b[0m\u001b[0mkeras\u001b[0m\u001b[0;34m.\u001b[0m\u001b[0mutils\u001b[0m\u001b[0;34m.\u001b[0m\u001b[0mto_categorical\u001b[0m\u001b[0;34m(\u001b[0m\u001b[0mtest_labels\u001b[0m\u001b[0;34m,\u001b[0m \u001b[0mNUM_CLASSES\u001b[0m\u001b[0;34m)\u001b[0m\u001b[0;34m\u001b[0m\u001b[0;34m\u001b[0m\u001b[0m\n\u001b[1;32m     21\u001b[0m \u001b[0;34m\u001b[0m\u001b[0m\n\u001b[0;32m---> 22\u001b[0;31m \u001b[0mmodel\u001b[0m \u001b[0;34m=\u001b[0m \u001b[0mresnet_v1\u001b[0m\u001b[0;34m(\u001b[0m\u001b[0minput_shape\u001b[0m\u001b[0;34m=\u001b[0m\u001b[0minput_shape\u001b[0m\u001b[0;34m,\u001b[0m \u001b[0mdepth\u001b[0m\u001b[0;34m=\u001b[0m\u001b[0mDEPTH\u001b[0m\u001b[0;34m)\u001b[0m\u001b[0;34m\u001b[0m\u001b[0;34m\u001b[0m\u001b[0m\n\u001b[0m\u001b[1;32m     23\u001b[0m \u001b[0;34m\u001b[0m\u001b[0m\n\u001b[1;32m     24\u001b[0m model.compile(loss='categorical_crossentropy',\n",
            "\u001b[0;32m<ipython-input-15-a75fdce9bcc6>\u001b[0m in \u001b[0;36mresnet_v1\u001b[0;34m(input_shape, depth, num_classes)\u001b[0m\n\u001b[1;32m     18\u001b[0m   \u001b[0;31m#Instantiate the input tensor\u001b[0m\u001b[0;34m\u001b[0m\u001b[0;34m\u001b[0m\u001b[0;34m\u001b[0m\u001b[0m\n\u001b[1;32m     19\u001b[0m   \u001b[0minputs\u001b[0m \u001b[0;34m=\u001b[0m \u001b[0mInput\u001b[0m\u001b[0;34m(\u001b[0m\u001b[0mshape\u001b[0m \u001b[0;34m=\u001b[0m \u001b[0minput_shape\u001b[0m\u001b[0;34m)\u001b[0m\u001b[0;34m\u001b[0m\u001b[0;34m\u001b[0m\u001b[0m\n\u001b[0;32m---> 20\u001b[0;31m   \u001b[0mx\u001b[0m \u001b[0;34m=\u001b[0m \u001b[0mresnet_layer\u001b[0m\u001b[0;34m(\u001b[0m\u001b[0minputs\u001b[0m \u001b[0;34m=\u001b[0m \u001b[0minputs\u001b[0m\u001b[0;34m)\u001b[0m\u001b[0;34m\u001b[0m\u001b[0;34m\u001b[0m\u001b[0m\n\u001b[0m\u001b[1;32m     21\u001b[0m \u001b[0;34m\u001b[0m\u001b[0m\n\u001b[1;32m     22\u001b[0m   \u001b[0;31m#Instantiate the stack of residual units\u001b[0m\u001b[0;34m\u001b[0m\u001b[0;34m\u001b[0m\u001b[0;34m\u001b[0m\u001b[0m\n",
            "\u001b[0;32m<ipython-input-14-012a464b5b90>\u001b[0m in \u001b[0;36mresnet_layer\u001b[0;34m(inputs, num_filters, kernel_size, strides, activation, batch_normalization, conv_first)\u001b[0m\n\u001b[1;32m     23\u001b[0m \u001b[0;34m\u001b[0m\u001b[0m\n\u001b[1;32m     24\u001b[0m   \u001b[0;31m#Assign the input data\u001b[0m\u001b[0;34m\u001b[0m\u001b[0;34m\u001b[0m\u001b[0;34m\u001b[0m\u001b[0m\n\u001b[0;32m---> 25\u001b[0;31m   \u001b[0mres_net_layer\u001b[0m \u001b[0;34m=\u001b[0m \u001b[0minput_data\u001b[0m\u001b[0;34m\u001b[0m\u001b[0;34m\u001b[0m\u001b[0m\n\u001b[0m\u001b[1;32m     26\u001b[0m \u001b[0;34m\u001b[0m\u001b[0m\n\u001b[1;32m     27\u001b[0m   \u001b[0;31m#Check the architecture\u001b[0m\u001b[0;34m\u001b[0m\u001b[0;34m\u001b[0m\u001b[0;34m\u001b[0m\u001b[0m\n",
            "\u001b[0;31mNameError\u001b[0m: name 'input_data' is not defined"
          ]
        }
      ]
    },
    {
      "cell_type": "code",
      "metadata": {
        "id": "CR7Krs_i4_-J",
        "colab_type": "code",
        "colab": {}
      },
      "source": [
        "# Prepare callbacks for model saving and for learning rate adjustment.\n",
        "checkpoint = ModelCheckpoint(filepath=filepath,\n",
        "                             monitor='val_acc',\n",
        "                             verbose=1,\n",
        "                             save_best_only=True)\n",
        "\n",
        "lr_scheduler = LearningRateScheduler(lr_schedule)\n",
        "\n",
        "lr_reducer = ReduceLROnPlateau(factor=np.sqrt(0.1),\n",
        "                               cooldown=0,\n",
        "                               patience=5,\n",
        "                               min_lr=0.5e-6)\n",
        "\n",
        "callbacks = [checkpoint, lr_reducer, lr_scheduler]\n",
        "\n",
        "# Run training, with or without data augmentation.\n",
        "print('Not using data augmentation.')\n",
        "model.fit(x_train, y_train,\n",
        "          batch_size=batch_size,\n",
        "          epochs=epochs,\n",
        "          validation_data=(x_test, y_test),\n",
        "          shuffle=True,\n",
        "          callbacks=callbacks)"
      ],
      "execution_count": 0,
      "outputs": []
    }
  ]
}